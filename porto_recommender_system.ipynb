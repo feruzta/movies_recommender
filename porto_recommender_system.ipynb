{
 "cells": [
  {
   "cell_type": "code",
   "execution_count": 18,
   "id": "9f314c10",
   "metadata": {
    "scrolled": true
   },
   "outputs": [
    {
     "name": "stderr",
     "output_type": "stream",
     "text": [
      "C:\\Users\\feruz\\AppData\\Local\\Temp\\ipykernel_15052\\2602907812.py:12: FutureWarning: The default value of regex will change from True to False in a future version. In addition, single character regular expressions will *not* be treated as literal strings when regex=True.\n",
      "  movies_df['genres'] = movies_df['genres'].str.replace('|', ' ')\n"
     ]
    },
    {
     "name": "stdout",
     "output_type": "stream",
     "text": [
      "Enter a movie title: Batman\n",
      "Recommendations for 'Batman':\n",
      "540                       striking distance (1993)\n",
      "979                              set it off (1996)\n",
      "1346                         batman returns (1992)\n",
      "2222                          one tough cop (1998)\n",
      "2223                           detroit 9000 (1973)\n",
      "2483                         mod squad, the (1999)\n",
      "2531                             dick tracy (1990)\n",
      "2606              run lola run (lola rennt) (1998)\n",
      "3296    taking of pelham one two three, the (1974)\n",
      "3626                     gone in 60 seconds (2000)\n",
      "Name: title, dtype: object\n"
     ]
    }
   ],
   "source": [
    "import pandas as pd\n",
    "from sklearn.feature_extraction.text import TfidfVectorizer\n",
    "from sklearn.metrics.pairwise import cosine_similarity\n",
    "from sklearn.model_selection import cross_val_score, BaseCrossValidator\n",
    "\n",
    "\n",
    "# Load the movie dataset\n",
    "movies_df = pd.read_csv('./dataset_movies/movie.csv')\n",
    "\n",
    "# Preprocess the data\n",
    "tfidf = TfidfVectorizer(stop_words='english')\n",
    "movies_df['genres'] = movies_df['genres'].str.replace('|', ' ')\n",
    "movies_df['title'] = movies_df['title'].str.lower()\n",
    "tfidf_matrix = tfidf.fit_transform(movies_df['genres'])\n",
    "\n",
    "# Compute the cosine similarity matrix\n",
    "cosine_sim = linear_kernel(tfidf_matrix, tfidf_matrix)\n",
    "\n",
    "# Function to get top recommendations for a given movie title\n",
    "def get_recommendations(title, cosine_sim=cosine_sim, movies_df=movies_df):\n",
    "    # Modify the movie title to match movies with similar titles\n",
    "    title = title.lower()\n",
    "    \n",
    "    # Get the indices of movies that contain the title\n",
    "    indices = movies_df[movies_df['title'].str.contains(title)].index\n",
    "\n",
    "    # Get the pairwise similarity scores of all movies with those indices\n",
    "    sim_scores = []\n",
    "    for idx in indices:\n",
    "        sim_scores.extend(list(enumerate(cosine_sim[idx])))\n",
    "\n",
    "    # Sort the movies based on the similarity scores\n",
    "    sim_scores = sorted(sim_scores, key=lambda x: x[1], reverse=True)\n",
    "\n",
    "    # Get the top 10 most similar movies\n",
    "    top_movies_indices = [i[0] for i in sim_scores[1:11]]\n",
    "    top_movies = movies_df['title'].iloc[top_movies_indices]\n",
    "\n",
    "    return top_movies\n",
    "\n",
    "# Get user input for movie title\n",
    "movie_title = input(\"Enter a movie title: \")\n",
    "recommendations = get_recommendations(movie_title)\n",
    "print(f\"Recommendations for '{movie_title}':\")\n",
    "print(recommendations)"
   ]
  },
  {
   "cell_type": "code",
   "execution_count": null,
   "id": "a8d74518",
   "metadata": {},
   "outputs": [],
   "source": []
  }
 ],
 "metadata": {
  "kernelspec": {
   "display_name": "Python 3 (ipykernel)",
   "language": "python",
   "name": "python3"
  },
  "language_info": {
   "codemirror_mode": {
    "name": "ipython",
    "version": 3
   },
   "file_extension": ".py",
   "mimetype": "text/x-python",
   "name": "python",
   "nbconvert_exporter": "python",
   "pygments_lexer": "ipython3",
   "version": "3.9.7"
  },
  "toc": {
   "base_numbering": 1,
   "nav_menu": {},
   "number_sections": true,
   "sideBar": true,
   "skip_h1_title": false,
   "title_cell": "Table of Contents",
   "title_sidebar": "Contents",
   "toc_cell": false,
   "toc_position": {},
   "toc_section_display": true,
   "toc_window_display": false
  }
 },
 "nbformat": 4,
 "nbformat_minor": 5
}
